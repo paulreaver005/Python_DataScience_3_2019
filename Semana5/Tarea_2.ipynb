{
  "cells": [
    {
      "metadata": {
        "trusted": true
      },
      "cell_type": "code",
      "source": "import pyodbc\nimport pandas as pd\nimport urllib\nfrom sqlalchemy import create_engine\n\n#parametros del servidor\nserver = 'den1.mssql8.gear.host' \ndatabase = 'pytest' \nusername = 'pytest' \npassword = 'Ragnarok.005' \n\n#tecnica para crear el motor\nparams = urllib.parse.quote_plus('DRIVER={ODBC Driver 17 for SQL Server};'+'SERVER='+server+';DATABASE='+database+';UID='+username+';PWD='+ password)\nengine = create_engine(\"mssql+pyodbc:///?odbc_connect=%s\" % params)\n\n#crea conexion\nconn = pyodbc.connect('DRIVER={ODBC Driver 17 for SQL Server};SERVER='+server+';DATABASE='+database+';UID='+username+';PWD='+ password)\n",
      "execution_count": 24,
      "outputs": []
    },
    {
      "metadata": {
        "trusted": true
      },
      "cell_type": "code",
      "source": "#funcion que toma como parámetro cualquier dataframe y lo sube a una tabla del servidos usando como nombre de tabla el nombre de la primera columna del dataframe y reemplaza el existente\ndef dfToSQL(anyDF):\n    name = anyDF.columns[0]\n    anyDF.to_sql(name, con=engine, if_exists='replace', index=False)",
      "execution_count": 25,
      "outputs": []
    },
    {
      "metadata": {
        "trusted": true
      },
      "cell_type": "code",
      "source": "#se crean 2 dataframes con datos de prueba\npaisSA = ['Chile', 'Peru', 'Argentina', 'Colombia', 'Ecuador', 'Mexico', 'Brazil','Uruguay', 'Paraguay', 'Bolivia','Venezuela', 'Ecuador']\npaisCA = ['Costa Rica', 'El Salvador', 'Guatemala','Belize', 'Nicaragua', 'Honduras', 'Panamá']\nsuramerica = pd.DataFrame(paisSA, columns = ['PaisSA'])\ncentroamerica = pd.DataFrame(paisCA, columns = ['PaisCA'])",
      "execution_count": 26,
      "outputs": []
    },
    {
      "metadata": {
        "trusted": true
      },
      "cell_type": "code",
      "source": "#llamada a la función con los dataframe de prueba\ndfToSQL(suramerica)\ndfToSQL(centroamerica)",
      "execution_count": 27,
      "outputs": []
    },
    {
      "metadata": {
        "trusted": true
      },
      "cell_type": "code",
      "source": "#conexion para la primera tabla\nSQL_Query = pd.read_sql_query(\n'''select * from  [dbo].[PaisSA] ''', conn)\ndf = pd.DataFrame(SQL_Query)",
      "execution_count": 32,
      "outputs": []
    },
    {
      "metadata": {
        "trusted": true
      },
      "cell_type": "code",
      "source": "#conexion para la segunda tabla\nSQL_Query1 = pd.read_sql_query(\n'''select * from  [dbo].[PaisCA] ''', conn)\ndf1 = pd.DataFrame(SQL_Query1)\n",
      "execution_count": 33,
      "outputs": []
    },
    {
      "metadata": {
        "trusted": true
      },
      "cell_type": "code",
      "source": "df1\n",
      "execution_count": 36,
      "outputs": [
        {
          "output_type": "execute_result",
          "execution_count": 36,
          "data": {
            "text/html": "<div>\n<style scoped>\n    .dataframe tbody tr th:only-of-type {\n        vertical-align: middle;\n    }\n\n    .dataframe tbody tr th {\n        vertical-align: top;\n    }\n\n    .dataframe thead th {\n        text-align: right;\n    }\n</style>\n<table border=\"1\" class=\"dataframe\">\n  <thead>\n    <tr style=\"text-align: right;\">\n      <th></th>\n      <th>PaisCA</th>\n    </tr>\n  </thead>\n  <tbody>\n    <tr>\n      <th>0</th>\n      <td>Costa Rica</td>\n    </tr>\n    <tr>\n      <th>1</th>\n      <td>El Salvador</td>\n    </tr>\n    <tr>\n      <th>2</th>\n      <td>Guatemala</td>\n    </tr>\n    <tr>\n      <th>3</th>\n      <td>Belize</td>\n    </tr>\n    <tr>\n      <th>4</th>\n      <td>Nicaragua</td>\n    </tr>\n    <tr>\n      <th>5</th>\n      <td>Honduras</td>\n    </tr>\n    <tr>\n      <th>6</th>\n      <td>Panamá</td>\n    </tr>\n  </tbody>\n</table>\n</div>",
            "text/plain": "        PaisCA\n0   Costa Rica\n1  El Salvador\n2    Guatemala\n3       Belize\n4    Nicaragua\n5     Honduras\n6       Panamá"
          },
          "metadata": {}
        }
      ]
    },
    {
      "metadata": {
        "trusted": true
      },
      "cell_type": "code",
      "source": "df",
      "execution_count": 37,
      "outputs": [
        {
          "output_type": "execute_result",
          "execution_count": 37,
          "data": {
            "text/html": "<div>\n<style scoped>\n    .dataframe tbody tr th:only-of-type {\n        vertical-align: middle;\n    }\n\n    .dataframe tbody tr th {\n        vertical-align: top;\n    }\n\n    .dataframe thead th {\n        text-align: right;\n    }\n</style>\n<table border=\"1\" class=\"dataframe\">\n  <thead>\n    <tr style=\"text-align: right;\">\n      <th></th>\n      <th>PaisSA</th>\n    </tr>\n  </thead>\n  <tbody>\n    <tr>\n      <th>0</th>\n      <td>Chile</td>\n    </tr>\n    <tr>\n      <th>1</th>\n      <td>Peru</td>\n    </tr>\n    <tr>\n      <th>2</th>\n      <td>Argentina</td>\n    </tr>\n    <tr>\n      <th>3</th>\n      <td>Colombia</td>\n    </tr>\n    <tr>\n      <th>4</th>\n      <td>Ecuador</td>\n    </tr>\n    <tr>\n      <th>5</th>\n      <td>Mexico</td>\n    </tr>\n    <tr>\n      <th>6</th>\n      <td>Brazil</td>\n    </tr>\n    <tr>\n      <th>7</th>\n      <td>Uruguay</td>\n    </tr>\n    <tr>\n      <th>8</th>\n      <td>Paraguay</td>\n    </tr>\n    <tr>\n      <th>9</th>\n      <td>Bolivia</td>\n    </tr>\n    <tr>\n      <th>10</th>\n      <td>Venezuela</td>\n    </tr>\n    <tr>\n      <th>11</th>\n      <td>Ecuador</td>\n    </tr>\n  </tbody>\n</table>\n</div>",
            "text/plain": "       PaisSA\n0       Chile\n1        Peru\n2   Argentina\n3    Colombia\n4     Ecuador\n5      Mexico\n6      Brazil\n7     Uruguay\n8    Paraguay\n9     Bolivia\n10  Venezuela\n11    Ecuador"
          },
          "metadata": {}
        }
      ]
    }
  ],
  "metadata": {
    "kernelspec": {
      "name": "python36",
      "display_name": "Python 3.6",
      "language": "python"
    },
    "language_info": {
      "mimetype": "text/x-python",
      "nbconvert_exporter": "python",
      "name": "python",
      "pygments_lexer": "ipython3",
      "version": "3.6.6",
      "file_extension": ".py",
      "codemirror_mode": {
        "version": 3,
        "name": "ipython"
      }
    }
  },
  "nbformat": 4,
  "nbformat_minor": 2
}