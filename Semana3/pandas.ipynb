{
  "cells": [
    {
      "metadata": {
        "trusted": true
      },
      "cell_type": "code",
      "source": "import pandas as pd\nimport numpy as np",
      "execution_count": 19,
      "outputs": []
    },
    {
      "metadata": {
        "trusted": true
      },
      "cell_type": "code",
      "source": "from pandas  import Series, DataFrame",
      "execution_count": 145,
      "outputs": []
    },
    {
      "metadata": {},
      "cell_type": "markdown",
      "source": "las series funcionan como los diccionarios en la que el indice se comporta de la misma manera"
    },
    {
      "metadata": {
        "trusted": true
      },
      "cell_type": "code",
      "source": "obj = pd.Series([4,5,-7,'p'])\nobj",
      "execution_count": 12,
      "outputs": [
        {
          "output_type": "execute_result",
          "execution_count": 12,
          "data": {
            "text/plain": "0     4\n1     5\n2    -7\n3     p\ndtype: object"
          },
          "metadata": {}
        }
      ]
    },
    {
      "metadata": {
        "trusted": true
      },
      "cell_type": "code",
      "source": "obj.index",
      "execution_count": 13,
      "outputs": [
        {
          "output_type": "execute_result",
          "execution_count": 13,
          "data": {
            "text/plain": "RangeIndex(start=0, stop=4, step=1)"
          },
          "metadata": {}
        }
      ]
    },
    {
      "metadata": {
        "trusted": true
      },
      "cell_type": "code",
      "source": "obj.values",
      "execution_count": 14,
      "outputs": [
        {
          "output_type": "execute_result",
          "execution_count": 14,
          "data": {
            "text/plain": "array([4, 5, -7, 'p'], dtype=object)"
          },
          "metadata": {}
        }
      ]
    },
    {
      "metadata": {
        "trusted": true
      },
      "cell_type": "code",
      "source": "type(obj)",
      "execution_count": 15,
      "outputs": [
        {
          "output_type": "execute_result",
          "execution_count": 15,
          "data": {
            "text/plain": "pandas.core.series.Series"
          },
          "metadata": {}
        }
      ]
    },
    {
      "metadata": {
        "trusted": true
      },
      "cell_type": "code",
      "source": "obj.shape",
      "execution_count": 16,
      "outputs": [
        {
          "output_type": "execute_result",
          "execution_count": 16,
          "data": {
            "text/plain": "(4,)"
          },
          "metadata": {}
        }
      ]
    },
    {
      "metadata": {
        "trusted": true
      },
      "cell_type": "code",
      "source": "display(obj)\ndisplay(obj.index)",
      "execution_count": 18,
      "outputs": [
        {
          "output_type": "display_data",
          "data": {
            "text/plain": "0     4\n1     5\n2    -7\n3     p\ndtype: object"
          },
          "metadata": {}
        },
        {
          "output_type": "display_data",
          "data": {
            "text/plain": "RangeIndex(start=0, stop=4, step=1)"
          },
          "metadata": {}
        }
      ]
    },
    {
      "metadata": {},
      "cell_type": "markdown",
      "source": "Ejercicio ¿qué es mas rapido un panda o numpy?"
    },
    {
      "metadata": {
        "trusted": true
      },
      "cell_type": "code",
      "source": "my_array = np.arange(1E6)\nmy_array",
      "execution_count": 26,
      "outputs": [
        {
          "output_type": "execute_result",
          "execution_count": 26,
          "data": {
            "text/plain": "array([0.00000e+00, 1.00000e+00, 2.00000e+00, ..., 9.99997e+05,\n       9.99998e+05, 9.99999e+05])"
          },
          "metadata": {}
        }
      ]
    },
    {
      "metadata": {
        "trusted": true
      },
      "cell_type": "code",
      "source": "my_series = pd.Series(my_array.copy())",
      "execution_count": 27,
      "outputs": []
    },
    {
      "metadata": {
        "trusted": true
      },
      "cell_type": "code",
      "source": "my_array.shape == my_series.shape",
      "execution_count": 29,
      "outputs": [
        {
          "output_type": "execute_result",
          "execution_count": 29,
          "data": {
            "text/plain": "True"
          },
          "metadata": {}
        }
      ]
    },
    {
      "metadata": {
        "trusted": true
      },
      "cell_type": "code",
      "source": "%timeit my_series * 2",
      "execution_count": 31,
      "outputs": [
        {
          "output_type": "stream",
          "text": "The slowest run took 9.18 times longer than the fastest. This could mean that an intermediate result is being cached.\n6.63 ms ± 4.96 ms per loop (mean ± std. dev. of 7 runs, 1 loop each)\n",
          "name": "stdout"
        }
      ]
    },
    {
      "metadata": {
        "trusted": true
      },
      "cell_type": "code",
      "source": "%timeit my_array * 2",
      "execution_count": 32,
      "outputs": [
        {
          "output_type": "stream",
          "text": "1.46 ms ± 137 µs per loop (mean ± std. dev. of 7 runs, 1000 loops each)\n",
          "name": "stdout"
        }
      ]
    },
    {
      "metadata": {
        "trusted": true
      },
      "cell_type": "code",
      "source": "'z' in my_series",
      "execution_count": 33,
      "outputs": [
        {
          "output_type": "execute_result",
          "execution_count": 33,
          "data": {
            "text/plain": "False"
          },
          "metadata": {}
        }
      ]
    },
    {
      "metadata": {},
      "cell_type": "markdown",
      "source": "ejercicio de series"
    },
    {
      "metadata": {
        "trusted": true
      },
      "cell_type": "code",
      "source": "my_series2 = pd.Series([5000, 4500, 5500, 5500], index=['pepe', 'tom', 'charlie', 'chicho'])",
      "execution_count": 55,
      "outputs": []
    },
    {
      "metadata": {},
      "cell_type": "markdown",
      "source": "quien tiene mas dinero"
    },
    {
      "metadata": {
        "trusted": true
      },
      "cell_type": "code",
      "source": "my_series2.idxmax()",
      "execution_count": 54,
      "outputs": [
        {
          "output_type": "execute_result",
          "execution_count": 54,
          "data": {
            "text/plain": "'charlie'"
          },
          "metadata": {}
        }
      ]
    },
    {
      "metadata": {
        "trusted": true
      },
      "cell_type": "code",
      "source": "my_series2[my_series2.values ==  my_series2.max()]",
      "execution_count": 56,
      "outputs": [
        {
          "output_type": "execute_result",
          "execution_count": 56,
          "data": {
            "text/plain": "charlie    5500\nchicho     5500\ndtype: int64"
          },
          "metadata": {}
        }
      ]
    },
    {
      "metadata": {},
      "cell_type": "markdown",
      "source": "Ejercicio 2 \ncrear una serie con los datos de provincia"
    },
    {
      "metadata": {
        "trusted": true
      },
      "cell_type": "code",
      "source": "provincias = ['San Jose', 'Alajuela', 'Cartago', 'Heredia', 'Guanacaste','Puntarenas','Limon']\npoblacion = pd.Series([1000000, 800000, 500000, 400000, 300000, 250000, 200000], index=provincias)",
      "execution_count": 111,
      "outputs": []
    },
    {
      "metadata": {
        "trusted": true
      },
      "cell_type": "code",
      "source": "poblacionModificada = pd.Series([100000, 50000, -100000], index=['Heredia','Puntarenas','San Jose',])",
      "execution_count": 112,
      "outputs": []
    },
    {
      "metadata": {
        "trusted": true
      },
      "cell_type": "code",
      "source": "poblacion + poblacionModificada.reindex(provincias).fillna(0)",
      "execution_count": 113,
      "outputs": [
        {
          "output_type": "execute_result",
          "execution_count": 113,
          "data": {
            "text/plain": "San Jose      900000.0\nAlajuela      800000.0\nCartago       500000.0\nHeredia       500000.0\nGuanacaste    300000.0\nPuntarenas    300000.0\nLimon         200000.0\ndtype: float64"
          },
          "metadata": {}
        }
      ]
    },
    {
      "metadata": {},
      "cell_type": "markdown",
      "source": "Otro metodo"
    },
    {
      "metadata": {
        "trusted": true
      },
      "cell_type": "code",
      "source": "poblacion + pd.Series(poblacionModificada, index=provincias).fillna(0)",
      "execution_count": 114,
      "outputs": [
        {
          "output_type": "execute_result",
          "execution_count": 114,
          "data": {
            "text/plain": "San Jose      900000.0\nAlajuela      800000.0\nCartago       500000.0\nHeredia       500000.0\nGuanacaste    300000.0\nPuntarenas    300000.0\nLimon         200000.0\ndtype: float64"
          },
          "metadata": {}
        }
      ]
    },
    {
      "metadata": {},
      "cell_type": "markdown",
      "source": "Otro metodo"
    },
    {
      "metadata": {
        "trusted": true
      },
      "cell_type": "code",
      "source": "sinmovimientos = set(poblacion.index) -  set(poblacionModificada.index)",
      "execution_count": 115,
      "outputs": []
    },
    {
      "metadata": {
        "trusted": true
      },
      "cell_type": "code",
      "source": "poblacionModificada = poblacionModificada.reindex(provincias)",
      "execution_count": 126,
      "outputs": []
    },
    {
      "metadata": {
        "trusted": true
      },
      "cell_type": "code",
      "source": "poblacionModificada[sinmovimientos] = 0",
      "execution_count": 127,
      "outputs": []
    },
    {
      "metadata": {
        "trusted": true
      },
      "cell_type": "code",
      "source": "final = poblacion + poblacionModificada",
      "execution_count": 129,
      "outputs": []
    },
    {
      "metadata": {
        "trusted": true
      },
      "cell_type": "code",
      "source": "final[final > 500000].apply(lambda x : 'tengo ' + str(x))",
      "execution_count": 138,
      "outputs": [
        {
          "output_type": "execute_result",
          "execution_count": 138,
          "data": {
            "text/plain": "San Jose    tengo 900000.0\nAlajuela    tengo 800000.0\ndtype: object"
          },
          "metadata": {}
        }
      ]
    },
    {
      "metadata": {
        "trusted": true
      },
      "cell_type": "code",
      "source": "final[final > 500000].sum()",
      "execution_count": 139,
      "outputs": [
        {
          "output_type": "execute_result",
          "execution_count": 139,
          "data": {
            "text/plain": "1700000.0"
          },
          "metadata": {}
        }
      ]
    },
    {
      "metadata": {
        "trusted": true
      },
      "cell_type": "code",
      "source": "final[final > 500000].apply(lambda x : 'tengo ' + str(x))",
      "execution_count": 144,
      "outputs": [
        {
          "output_type": "execute_result",
          "execution_count": 144,
          "data": {
            "text/plain": "San Jose    tengo 900000.0\nAlajuela    tengo 800000.0\ndtype: object"
          },
          "metadata": {}
        }
      ]
    },
    {
      "metadata": {},
      "cell_type": "markdown",
      "source": "Ejercicio como crear un dataframe"
    },
    {
      "metadata": {
        "trusted": true
      },
      "cell_type": "code",
      "source": "data = {'persona': ['tom', 'chepe', 'juan'],\n        'edad': [34, 30, 40],\n        'telefono': [88907010, 70708054, 55555555],\n        'monto': [1000, 800, 1500]\n       }\nframe = pd.DataFrame(data)",
      "execution_count": 148,
      "outputs": []
    },
    {
      "metadata": {
        "trusted": true
      },
      "cell_type": "code",
      "source": "frame",
      "execution_count": 149,
      "outputs": [
        {
          "output_type": "execute_result",
          "execution_count": 149,
          "data": {
            "text/html": "<div>\n<style scoped>\n    .dataframe tbody tr th:only-of-type {\n        vertical-align: middle;\n    }\n\n    .dataframe tbody tr th {\n        vertical-align: top;\n    }\n\n    .dataframe thead th {\n        text-align: right;\n    }\n</style>\n<table border=\"1\" class=\"dataframe\">\n  <thead>\n    <tr style=\"text-align: right;\">\n      <th></th>\n      <th>persona</th>\n      <th>edad</th>\n      <th>telefono</th>\n      <th>monto</th>\n    </tr>\n  </thead>\n  <tbody>\n    <tr>\n      <th>0</th>\n      <td>tom</td>\n      <td>34</td>\n      <td>88907010</td>\n      <td>1000</td>\n    </tr>\n    <tr>\n      <th>1</th>\n      <td>chepe</td>\n      <td>30</td>\n      <td>70708054</td>\n      <td>800</td>\n    </tr>\n    <tr>\n      <th>2</th>\n      <td>juan</td>\n      <td>40</td>\n      <td>55555555</td>\n      <td>1500</td>\n    </tr>\n  </tbody>\n</table>\n</div>",
            "text/plain": "  persona  edad  telefono  monto\n0     tom    34  88907010   1000\n1   chepe    30  70708054    800\n2    juan    40  55555555   1500"
          },
          "metadata": {}
        }
      ]
    },
    {
      "metadata": {},
      "cell_type": "markdown",
      "source": "quien tiene mas de 1000"
    },
    {
      "metadata": {
        "trusted": true
      },
      "cell_type": "code",
      "source": "frame[frame['monto'] > 1000]['persona'].iloc[0]",
      "execution_count": 160,
      "outputs": [
        {
          "output_type": "execute_result",
          "execution_count": 160,
          "data": {
            "text/plain": "'juan'"
          },
          "metadata": {}
        }
      ]
    },
    {
      "metadata": {
        "trusted": true
      },
      "cell_type": "code",
      "source": "",
      "execution_count": null,
      "outputs": []
    }
  ],
  "metadata": {
    "kernelspec": {
      "name": "python36",
      "display_name": "Python 3.6",
      "language": "python"
    },
    "language_info": {
      "mimetype": "text/x-python",
      "nbconvert_exporter": "python",
      "name": "python",
      "pygments_lexer": "ipython3",
      "version": "3.6.6",
      "file_extension": ".py",
      "codemirror_mode": {
        "version": 3,
        "name": "ipython"
      }
    }
  },
  "nbformat": 4,
  "nbformat_minor": 2
}