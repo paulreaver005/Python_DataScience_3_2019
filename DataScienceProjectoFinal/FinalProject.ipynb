{
  "cells": [
    {
      "metadata": {
        "trusted": true
      },
      "cell_type": "code",
      "source": "import pandas as pd\nimport numpy as np",
      "execution_count": 1,
      "outputs": []
    },
    {
      "metadata": {},
      "cell_type": "markdown",
      "source": "## Loads the datafile"
    },
    {
      "metadata": {
        "trusted": true
      },
      "cell_type": "code",
      "source": "xlsx = pd.ExcelFile('OBTestData.xlsx')\nOBData = pd.read_excel(xlsx, 'Sheet1')",
      "execution_count": 2,
      "outputs": []
    },
    {
      "metadata": {
        "trusted": true
      },
      "cell_type": "code",
      "source": "xlsx = pd.ExcelFile('entryCutoff.xlsx')\nentryCutoff = pd.read_excel(xlsx, 'Sheet1')\n#entryCutoff",
      "execution_count": 3,
      "outputs": []
    },
    {
      "metadata": {},
      "cell_type": "markdown",
      "source": "## Transform the datecolumns to Datetime"
    },
    {
      "metadata": {
        "trusted": true
      },
      "cell_type": "code",
      "source": "OBData['ObProcessDate'] = pd.to_datetime(OBData['ObProcessDate'])\nOBData['Order create dt'] = pd.to_datetime(OBData['Order create dt'])\nOBData['FactoryShipDt'] = pd.to_datetime(OBData['FactoryShipDt'])",
      "execution_count": 4,
      "outputs": []
    },
    {
      "metadata": {},
      "cell_type": "markdown",
      "source": "## Calculates the Business days from the order creation date up to today"
    },
    {
      "metadata": {
        "trusted": true
      },
      "cell_type": "code",
      "source": "A = [d.date() for d in OBData['Order create dt']]\nB = [d.date() for d in OBData['ObProcessDate']]\nOBData['Aging Days in Business Days'] = np.busday_count(A, B)",
      "execution_count": 5,
      "outputs": []
    },
    {
      "metadata": {},
      "cell_type": "markdown",
      "source": "## Calculates the Calendar days from the order creation date up to today"
    },
    {
      "metadata": {
        "trusted": true,
        "scrolled": true
      },
      "cell_type": "code",
      "source": "OBData['Aging Days in Calendar'] =  OBData['ObProcessDate'] - OBData['Order create dt']",
      "execution_count": 6,
      "outputs": []
    },
    {
      "metadata": {},
      "cell_type": "markdown",
      "source": "## Identifies the order still open at plant based on the delivery number"
    },
    {
      "metadata": {
        "trusted": true
      },
      "cell_type": "code",
      "source": "di = {True: 'Open in Plant', False: 'In Transit to Country'}\nobj = pd.Series(OBData['FactoryShipDt'])\nOBData['SupplyStatus'] = pd.isnull(obj)\nOBData['SupplyStatus'] = pd.isnull(obj)\nOBData['SupplyStatus'] = OBData['SupplyStatus'].map(di) ",
      "execution_count": 7,
      "outputs": []
    },
    {
      "metadata": {},
      "cell_type": "markdown",
      "source": "## Calculates the amount of Revenue Orders availability in the plant "
    },
    {
      "metadata": {
        "trusted": true,
        "scrolled": false
      },
      "cell_type": "code",
      "source": "availability = OBData[ ['SupplyStatus', 'EGNetUSDAmount']]\ndf1 = availability.groupby(['SupplyStatus']).sum()/1000000\n",
      "execution_count": 8,
      "outputs": []
    },
    {
      "metadata": {},
      "cell_type": "markdown",
      "source": "## Calculates the amount of Revenue entered in each month"
    },
    {
      "metadata": {
        "trusted": true
      },
      "cell_type": "code",
      "source": "agingBusinesDays = OBData[ ['Order create dt', 'EGNetUSDAmount']]\ncreateDate = agingBusinesDays.set_index('Order create dt').groupby(pd.Grouper(freq='M'))['EGNetUSDAmount'].sum().reset_index()\ncreateDate['EGNetUSDAmount'] = createDate['EGNetUSDAmount']/1000000\ndf2 = createDate",
      "execution_count": 9,
      "outputs": []
    },
    {
      "metadata": {},
      "cell_type": "markdown",
      "source": "## Calculates the amount of orders already shipped from factory"
    },
    {
      "metadata": {
        "trusted": true
      },
      "cell_type": "code",
      "source": "agingShip = OBData[ ['FactoryShipDt', 'EGNetUSDAmount']]\nshipDate = agingShip.set_index('FactoryShipDt').groupby(pd.Grouper(freq='M'))['EGNetUSDAmount'].sum().reset_index()\nshipDate['EGNetUSDAmount'] = shipDate['EGNetUSDAmount']/1000000\ndf3 = shipDate",
      "execution_count": 10,
      "outputs": []
    },
    {
      "metadata": {},
      "cell_type": "markdown",
      "source": "## Calculates the amount of revenue per  Country"
    },
    {
      "metadata": {
        "trusted": true
      },
      "cell_type": "code",
      "source": "region = {'Brazil': 'Brazil', 'Argentina': 'Argentina', 'Mexico':'Mexico', 'Colombia':'Colombia', 'Chile':'Chile',\n         'Peru':'Peru', 'Puerto Rico':'Puerto Rico', 'Ecuador': 'LA18', 'Guatemala':'LA18', 'Honduras':'LA18',\n         'Panama': 'LA18', 'Costa Rica':'LA18', 'El Salvador': 'LA18', 'Belize': 'LA18', 'Nicaragua':'LA18',\n         'Jamaica':'LA18', 'Paraguay': 'LA18', 'Uruguay':'LA18', 'Latin America HQ': 'LA18' }\n\n\n\nOBData['SalesOrg'] = OBData['FinanceGeo'].map(region) \nlaRegion = OBData[ ['SalesOrg', 'EGNetUSDAmount']]\n\ndf4 = laRegion.groupby(['SalesOrg']).sum()/1000000",
      "execution_count": 11,
      "outputs": []
    },
    {
      "metadata": {},
      "cell_type": "markdown",
      "source": "## Validates the orders entered before the entry cutoff"
    },
    {
      "metadata": {
        "trusted": true,
        "scrolled": true
      },
      "cell_type": "code",
      "source": "cutoff = dict(zip(entryCutoff.Country, entryCutoff.EntryCutoff))\n\ndi1 = {True: 'After', False: 'Before'}\n\n\nOBData['Cutoff_Date'] = OBData['SalesOrg'].map(cutoff)\nOBData['Cutoff_Date'] = pd.to_datetime(OBData['Cutoff_Date'])\n\nOBData['Cutoff_Status'] = OBData['Order create dt'] > OBData['Cutoff_Date']\nOBData['Cutoff_Status'] = OBData['Cutoff_Status'].map(di1)\nOpenPlant = OBData[['Order create dt', 'Cutoff_Date', 'SalesOrg', 'Cutoff_Status','EGNetUSDAmount']]\ndf5 = OpenPlant.groupby(['Cutoff_Status']).sum()/1000000\n",
      "execution_count": 12,
      "outputs": []
    },
    {
      "metadata": {},
      "cell_type": "markdown",
      "source": "## Writes an excel file with the analysis"
    },
    {
      "metadata": {
        "trusted": true
      },
      "cell_type": "code",
      "source": "\nwith pd.ExcelWriter('output.xlsx') as writer: \n     df1.to_excel(writer, sheet_name='Sheet_name_1')\n     df2.to_excel(writer, sheet_name='Sheet_name_1', startrow=5)\n     df3.to_excel(writer, sheet_name='Sheet_name_1', startrow=15)\n     df4.to_excel(writer, sheet_name='Sheet_name_1', startrow=25)\n     df5.to_excel(writer, sheet_name='Sheet_name_1', startrow=35)",
      "execution_count": 13,
      "outputs": []
    },
    {
      "metadata": {
        "trusted": true
      },
      "cell_type": "markdown",
      "source": "## Validation"
    },
    {
      "metadata": {
        "trusted": true,
        "scrolled": true
      },
      "cell_type": "code",
      "source": "display(df1)\ndisplay(df2)\ndisplay(df3)\ndisplay(df4)\ndisplay(df5)",
      "execution_count": 14,
      "outputs": [
        {
          "output_type": "display_data",
          "data": {
            "text/html": "<div>\n<style scoped>\n    .dataframe tbody tr th:only-of-type {\n        vertical-align: middle;\n    }\n\n    .dataframe tbody tr th {\n        vertical-align: top;\n    }\n\n    .dataframe thead th {\n        text-align: right;\n    }\n</style>\n<table border=\"1\" class=\"dataframe\">\n  <thead>\n    <tr style=\"text-align: right;\">\n      <th></th>\n      <th>EGNetUSDAmount</th>\n    </tr>\n    <tr>\n      <th>SupplyStatus</th>\n      <th></th>\n    </tr>\n  </thead>\n  <tbody>\n    <tr>\n      <th>In Transit to Country</th>\n      <td>16.586487</td>\n    </tr>\n    <tr>\n      <th>Open in Plant</th>\n      <td>17.582528</td>\n    </tr>\n  </tbody>\n</table>\n</div>",
            "text/plain": "                       EGNetUSDAmount\nSupplyStatus                         \nIn Transit to Country       16.586487\nOpen in Plant               17.582528"
          },
          "metadata": {}
        },
        {
          "output_type": "display_data",
          "data": {
            "text/html": "<div>\n<style scoped>\n    .dataframe tbody tr th:only-of-type {\n        vertical-align: middle;\n    }\n\n    .dataframe tbody tr th {\n        vertical-align: top;\n    }\n\n    .dataframe thead th {\n        text-align: right;\n    }\n</style>\n<table border=\"1\" class=\"dataframe\">\n  <thead>\n    <tr style=\"text-align: right;\">\n      <th></th>\n      <th>Order create dt</th>\n      <th>EGNetUSDAmount</th>\n    </tr>\n  </thead>\n  <tbody>\n    <tr>\n      <th>0</th>\n      <td>2018-12-31</td>\n      <td>0.009829</td>\n    </tr>\n    <tr>\n      <th>1</th>\n      <td>2019-01-31</td>\n      <td>0.000000</td>\n    </tr>\n    <tr>\n      <th>2</th>\n      <td>2019-02-28</td>\n      <td>0.000000</td>\n    </tr>\n    <tr>\n      <th>3</th>\n      <td>2019-03-31</td>\n      <td>0.060620</td>\n    </tr>\n    <tr>\n      <th>4</th>\n      <td>2019-04-30</td>\n      <td>1.737107</td>\n    </tr>\n    <tr>\n      <th>5</th>\n      <td>2019-05-31</td>\n      <td>7.694104</td>\n    </tr>\n    <tr>\n      <th>6</th>\n      <td>2019-06-30</td>\n      <td>24.603008</td>\n    </tr>\n    <tr>\n      <th>7</th>\n      <td>2019-07-31</td>\n      <td>0.064349</td>\n    </tr>\n  </tbody>\n</table>\n</div>",
            "text/plain": "  Order create dt  EGNetUSDAmount\n0      2018-12-31        0.009829\n1      2019-01-31        0.000000\n2      2019-02-28        0.000000\n3      2019-03-31        0.060620\n4      2019-04-30        1.737107\n5      2019-05-31        7.694104\n6      2019-06-30       24.603008\n7      2019-07-31        0.064349"
          },
          "metadata": {}
        },
        {
          "output_type": "display_data",
          "data": {
            "text/html": "<div>\n<style scoped>\n    .dataframe tbody tr th:only-of-type {\n        vertical-align: middle;\n    }\n\n    .dataframe tbody tr th {\n        vertical-align: top;\n    }\n\n    .dataframe thead th {\n        text-align: right;\n    }\n</style>\n<table border=\"1\" class=\"dataframe\">\n  <thead>\n    <tr style=\"text-align: right;\">\n      <th></th>\n      <th>FactoryShipDt</th>\n      <th>EGNetUSDAmount</th>\n    </tr>\n  </thead>\n  <tbody>\n    <tr>\n      <th>0</th>\n      <td>2019-03-31</td>\n      <td>0.040885</td>\n    </tr>\n    <tr>\n      <th>1</th>\n      <td>2019-04-30</td>\n      <td>1.279111</td>\n    </tr>\n    <tr>\n      <th>2</th>\n      <td>2019-05-31</td>\n      <td>1.405930</td>\n    </tr>\n    <tr>\n      <th>3</th>\n      <td>2019-06-30</td>\n      <td>12.226310</td>\n    </tr>\n    <tr>\n      <th>4</th>\n      <td>2019-07-31</td>\n      <td>1.634251</td>\n    </tr>\n  </tbody>\n</table>\n</div>",
            "text/plain": "  FactoryShipDt  EGNetUSDAmount\n0    2019-03-31        0.040885\n1    2019-04-30        1.279111\n2    2019-05-31        1.405930\n3    2019-06-30       12.226310\n4    2019-07-31        1.634251"
          },
          "metadata": {}
        },
        {
          "output_type": "display_data",
          "data": {
            "text/html": "<div>\n<style scoped>\n    .dataframe tbody tr th:only-of-type {\n        vertical-align: middle;\n    }\n\n    .dataframe tbody tr th {\n        vertical-align: top;\n    }\n\n    .dataframe thead th {\n        text-align: right;\n    }\n</style>\n<table border=\"1\" class=\"dataframe\">\n  <thead>\n    <tr style=\"text-align: right;\">\n      <th></th>\n      <th>EGNetUSDAmount</th>\n    </tr>\n    <tr>\n      <th>SalesOrg</th>\n      <th></th>\n    </tr>\n  </thead>\n  <tbody>\n    <tr>\n      <th>Argentina</th>\n      <td>4.053330</td>\n    </tr>\n    <tr>\n      <th>Brazil</th>\n      <td>9.056008</td>\n    </tr>\n    <tr>\n      <th>Chile</th>\n      <td>4.454329</td>\n    </tr>\n    <tr>\n      <th>Colombia</th>\n      <td>2.029157</td>\n    </tr>\n    <tr>\n      <th>LA18</th>\n      <td>1.389621</td>\n    </tr>\n    <tr>\n      <th>Mexico</th>\n      <td>11.539559</td>\n    </tr>\n    <tr>\n      <th>Peru</th>\n      <td>0.541702</td>\n    </tr>\n    <tr>\n      <th>Puerto Rico</th>\n      <td>1.105215</td>\n    </tr>\n  </tbody>\n</table>\n</div>",
            "text/plain": "             EGNetUSDAmount\nSalesOrg                   \nArgentina          4.053330\nBrazil             9.056008\nChile              4.454329\nColombia           2.029157\nLA18               1.389621\nMexico            11.539559\nPeru               0.541702\nPuerto Rico        1.105215"
          },
          "metadata": {}
        },
        {
          "output_type": "display_data",
          "data": {
            "text/html": "<div>\n<style scoped>\n    .dataframe tbody tr th:only-of-type {\n        vertical-align: middle;\n    }\n\n    .dataframe tbody tr th {\n        vertical-align: top;\n    }\n\n    .dataframe thead th {\n        text-align: right;\n    }\n</style>\n<table border=\"1\" class=\"dataframe\">\n  <thead>\n    <tr style=\"text-align: right;\">\n      <th></th>\n      <th>EGNetUSDAmount</th>\n    </tr>\n    <tr>\n      <th>Cutoff_Status</th>\n      <th></th>\n    </tr>\n  </thead>\n  <tbody>\n    <tr>\n      <th>After</th>\n      <td>2.292758</td>\n    </tr>\n    <tr>\n      <th>Before</th>\n      <td>31.876256</td>\n    </tr>\n  </tbody>\n</table>\n</div>",
            "text/plain": "               EGNetUSDAmount\nCutoff_Status                \nAfter                2.292758\nBefore              31.876256"
          },
          "metadata": {}
        }
      ]
    },
    {
      "metadata": {
        "trusted": true
      },
      "cell_type": "code",
      "source": "",
      "execution_count": null,
      "outputs": []
    }
  ],
  "metadata": {
    "kernelspec": {
      "name": "python36",
      "display_name": "Python 3.6",
      "language": "python"
    },
    "language_info": {
      "mimetype": "text/x-python",
      "nbconvert_exporter": "python",
      "name": "python",
      "pygments_lexer": "ipython3",
      "version": "3.6.6",
      "file_extension": ".py",
      "codemirror_mode": {
        "version": 3,
        "name": "ipython"
      }
    }
  },
  "nbformat": 4,
  "nbformat_minor": 2
}