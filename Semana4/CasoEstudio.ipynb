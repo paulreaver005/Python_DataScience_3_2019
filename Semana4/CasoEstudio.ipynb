{
  "cells": [
    {
      "metadata": {
        "trusted": true
      },
      "cell_type": "code",
      "source": "import pandas as pd\ndf = pd.read_excel(\"https://github.com/chris1610/pbpython/blob/master/data/sample-salesv3.xlsx?raw=True\")\n",
      "execution_count": 8,
      "outputs": []
    },
    {
      "metadata": {
        "trusted": true
      },
      "cell_type": "code",
      "source": "df.dtypes",
      "execution_count": 11,
      "outputs": [
        {
          "output_type": "execute_result",
          "execution_count": 11,
          "data": {
            "text/plain": "account number             int64\nname                      object\nsku                       object\nquantity                   int64\nunit price               float64\next price                float64\ndate              datetime64[ns]\ndtype: object"
          },
          "metadata": {}
        }
      ]
    },
    {
      "metadata": {
        "trusted": true
      },
      "cell_type": "code",
      "source": "df[\"date\"] = pd.to_datetime(df['date'])\n#hay que hace el clean up antes de poder manipular los datos para evitar que se de algun error de conversion",
      "execution_count": 13,
      "outputs": []
    },
    {
      "metadata": {
        "trusted": true
      },
      "cell_type": "code",
      "source": "df.head()",
      "execution_count": 14,
      "outputs": [
        {
          "output_type": "execute_result",
          "execution_count": 14,
          "data": {
            "text/html": "<div>\n<style scoped>\n    .dataframe tbody tr th:only-of-type {\n        vertical-align: middle;\n    }\n\n    .dataframe tbody tr th {\n        vertical-align: top;\n    }\n\n    .dataframe thead th {\n        text-align: right;\n    }\n</style>\n<table border=\"1\" class=\"dataframe\">\n  <thead>\n    <tr style=\"text-align: right;\">\n      <th></th>\n      <th>account number</th>\n      <th>name</th>\n      <th>sku</th>\n      <th>quantity</th>\n      <th>unit price</th>\n      <th>ext price</th>\n      <th>date</th>\n    </tr>\n  </thead>\n  <tbody>\n    <tr>\n      <th>0</th>\n      <td>740150</td>\n      <td>Barton LLC</td>\n      <td>B1-20000</td>\n      <td>39</td>\n      <td>86.69</td>\n      <td>3380.91</td>\n      <td>2014-01-01 07:21:51</td>\n    </tr>\n    <tr>\n      <th>1</th>\n      <td>714466</td>\n      <td>Trantow-Barrows</td>\n      <td>S2-77896</td>\n      <td>-1</td>\n      <td>63.16</td>\n      <td>-63.16</td>\n      <td>2014-01-01 10:00:47</td>\n    </tr>\n    <tr>\n      <th>2</th>\n      <td>218895</td>\n      <td>Kulas Inc</td>\n      <td>B1-69924</td>\n      <td>23</td>\n      <td>90.70</td>\n      <td>2086.10</td>\n      <td>2014-01-01 13:24:58</td>\n    </tr>\n    <tr>\n      <th>3</th>\n      <td>307599</td>\n      <td>Kassulke, Ondricka and Metz</td>\n      <td>S1-65481</td>\n      <td>41</td>\n      <td>21.05</td>\n      <td>863.05</td>\n      <td>2014-01-01 15:05:22</td>\n    </tr>\n    <tr>\n      <th>4</th>\n      <td>412290</td>\n      <td>Jerde-Hilpert</td>\n      <td>S2-34077</td>\n      <td>6</td>\n      <td>83.21</td>\n      <td>499.26</td>\n      <td>2014-01-01 23:26:55</td>\n    </tr>\n  </tbody>\n</table>\n</div>",
            "text/plain": "   account number                         name       sku  quantity  \\\n0          740150                   Barton LLC  B1-20000        39   \n1          714466              Trantow-Barrows  S2-77896        -1   \n2          218895                    Kulas Inc  B1-69924        23   \n3          307599  Kassulke, Ondricka and Metz  S1-65481        41   \n4          412290                Jerde-Hilpert  S2-34077         6   \n\n   unit price  ext price                date  \n0       86.69    3380.91 2014-01-01 07:21:51  \n1       63.16     -63.16 2014-01-01 10:00:47  \n2       90.70    2086.10 2014-01-01 13:24:58  \n3       21.05     863.05 2014-01-01 15:05:22  \n4       83.21     499.26 2014-01-01 23:26:55  "
          },
          "metadata": {}
        }
      ]
    },
    {
      "metadata": {
        "trusted": true
      },
      "cell_type": "code",
      "source": "df.set_index('date').resample('M')[\"ext price\",\"unit price\",\"quantity\"].sum()\n#si no existen datos en correspondientes se rellenan los campos con NaN, por lo que es importante hacer un tratamiento de los mismos.",
      "execution_count": 25,
      "outputs": [
        {
          "output_type": "execute_result",
          "execution_count": 25,
          "data": {
            "text/html": "<div>\n<style scoped>\n    .dataframe tbody tr th:only-of-type {\n        vertical-align: middle;\n    }\n\n    .dataframe tbody tr th {\n        vertical-align: top;\n    }\n\n    .dataframe thead th {\n        text-align: right;\n    }\n</style>\n<table border=\"1\" class=\"dataframe\">\n  <thead>\n    <tr style=\"text-align: right;\">\n      <th></th>\n      <th>ext price</th>\n      <th>unit price</th>\n      <th>quantity</th>\n    </tr>\n    <tr>\n      <th>date</th>\n      <th></th>\n      <th></th>\n      <th></th>\n    </tr>\n  </thead>\n  <tbody>\n    <tr>\n      <th>2014-01-31</th>\n      <td>185361.66</td>\n      <td>7297.38</td>\n      <td>3225</td>\n    </tr>\n    <tr>\n      <th>2014-02-28</th>\n      <td>146211.62</td>\n      <td>5975.99</td>\n      <td>2676</td>\n    </tr>\n    <tr>\n      <th>2014-03-31</th>\n      <td>203921.38</td>\n      <td>8480.77</td>\n      <td>3458</td>\n    </tr>\n    <tr>\n      <th>2014-04-30</th>\n      <td>174574.11</td>\n      <td>7198.02</td>\n      <td>3283</td>\n    </tr>\n    <tr>\n      <th>2014-05-31</th>\n      <td>165418.55</td>\n      <td>7463.65</td>\n      <td>3023</td>\n    </tr>\n    <tr>\n      <th>2014-06-30</th>\n      <td>174089.33</td>\n      <td>6974.31</td>\n      <td>3076</td>\n    </tr>\n    <tr>\n      <th>2014-07-31</th>\n      <td>191662.11</td>\n      <td>6927.02</td>\n      <td>3394</td>\n    </tr>\n    <tr>\n      <th>2014-08-31</th>\n      <td>153778.59</td>\n      <td>6387.84</td>\n      <td>2874</td>\n    </tr>\n    <tr>\n      <th>2014-09-30</th>\n      <td>168443.17</td>\n      <td>6279.76</td>\n      <td>3151</td>\n    </tr>\n    <tr>\n      <th>2014-10-31</th>\n      <td>171495.32</td>\n      <td>6984.69</td>\n      <td>2931</td>\n    </tr>\n    <tr>\n      <th>2014-11-30</th>\n      <td>119961.22</td>\n      <td>5768.14</td>\n      <td>2478</td>\n    </tr>\n    <tr>\n      <th>2014-12-31</th>\n      <td>163867.26</td>\n      <td>6773.72</td>\n      <td>2894</td>\n    </tr>\n  </tbody>\n</table>\n</div>",
            "text/plain": "            ext price  unit price  quantity\ndate                                       \n2014-01-31  185361.66     7297.38      3225\n2014-02-28  146211.62     5975.99      2676\n2014-03-31  203921.38     8480.77      3458\n2014-04-30  174574.11     7198.02      3283\n2014-05-31  165418.55     7463.65      3023\n2014-06-30  174089.33     6974.31      3076\n2014-07-31  191662.11     6927.02      3394\n2014-08-31  153778.59     6387.84      2874\n2014-09-30  168443.17     6279.76      3151\n2014-10-31  171495.32     6984.69      2931\n2014-11-30  119961.22     5768.14      2478\n2014-12-31  163867.26     6773.72      2894"
          },
          "metadata": {}
        }
      ]
    },
    {
      "metadata": {
        "trusted": true
      },
      "cell_type": "code",
      "source": "df.set_index('date').groupby('name')[\"ext price\"].resample(\"M\").sum()\n#df.set_index('date').groupby('name')[\"ext price\"].sum()",
      "execution_count": 28,
      "outputs": [
        {
          "output_type": "execute_result",
          "execution_count": 28,
          "data": {
            "text/plain": "name                             date      \nBarton LLC                       2014-01-31     6177.57\n                                 2014-02-28    12218.03\n                                 2014-03-31     3513.53\n                                 2014-04-30    11474.20\n                                 2014-05-31    10220.17\n                                 2014-06-30    10463.73\n                                 2014-07-31     6750.48\n                                 2014-08-31    17541.46\n                                 2014-09-30    14053.61\n                                 2014-10-31     9351.68\n                                 2014-11-30     4901.14\n                                 2014-12-31     2772.90\nCronin, Oberbrunner and Spencer  2014-01-31     1141.75\n                                 2014-02-28    13976.26\n                                 2014-03-31    11691.62\n                                 2014-04-30     3685.44\n                                 2014-05-31     6760.11\n                                 2014-06-30     5379.67\n                                 2014-07-31     6020.30\n                                 2014-08-31     5399.58\n                                 2014-09-30    12693.74\n                                 2014-10-31     9324.37\n                                 2014-11-30     6021.11\n                                 2014-12-31     7640.60\nFrami, Hills and Schmidt         2014-01-31     5112.34\n                                 2014-02-28     4124.53\n                                 2014-03-31    10397.44\n                                 2014-04-30     5036.18\n                                 2014-05-31     4097.87\n                                 2014-06-30    13192.19\n                                                 ...   \nTrantow-Barrows                  2014-07-31    11987.34\n                                 2014-08-31    17251.65\n                                 2014-09-30     6992.48\n                                 2014-10-31    10064.27\n                                 2014-11-30     6550.10\n                                 2014-12-31    10124.23\nWhite-Trantow                    2014-01-31    13703.77\n                                 2014-02-28    11783.98\n                                 2014-03-31     8583.05\n                                 2014-04-30    19009.20\n                                 2014-05-31     5877.29\n                                 2014-06-30    14791.32\n                                 2014-07-31    10242.62\n                                 2014-08-31    12287.21\n                                 2014-09-30     5315.16\n                                 2014-10-31    19896.85\n                                 2014-11-30     9544.61\n                                 2014-12-31     4806.93\nWill LLC                         2014-01-31    20953.87\n                                 2014-02-28    13613.06\n                                 2014-03-31     9838.93\n                                 2014-04-30     6094.94\n                                 2014-05-31    11856.95\n                                 2014-06-30     2419.52\n                                 2014-07-31    11017.54\n                                 2014-08-31     1439.82\n                                 2014-09-30     4345.99\n                                 2014-10-31     7085.33\n                                 2014-11-30     3210.44\n                                 2014-12-31    12561.21\nName: ext price, Length: 240, dtype: float64"
          },
          "metadata": {}
        }
      ]
    },
    {
      "metadata": {
        "trusted": true
      },
      "cell_type": "code",
      "source": "df.groupby(['name', pd.Grouper(key='date', freq='M')])['ext price'].sum()\n#df.groupby(['name', pd.Grouper(key='date', freq='M')])['ext price'].sum().loc[\"Barton LLC\"]\n#el .loc es para consultar por un valor específico basado en el label de la columna",
      "execution_count": 31,
      "outputs": [
        {
          "output_type": "execute_result",
          "execution_count": 31,
          "data": {
            "text/plain": "name                             date      \nBarton LLC                       2014-01-31     6177.57\n                                 2014-02-28    12218.03\n                                 2014-03-31     3513.53\n                                 2014-04-30    11474.20\n                                 2014-05-31    10220.17\n                                 2014-06-30    10463.73\n                                 2014-07-31     6750.48\n                                 2014-08-31    17541.46\n                                 2014-09-30    14053.61\n                                 2014-10-31     9351.68\n                                 2014-11-30     4901.14\n                                 2014-12-31     2772.90\nCronin, Oberbrunner and Spencer  2014-01-31     1141.75\n                                 2014-02-28    13976.26\n                                 2014-03-31    11691.62\n                                 2014-04-30     3685.44\n                                 2014-05-31     6760.11\n                                 2014-06-30     5379.67\n                                 2014-07-31     6020.30\n                                 2014-08-31     5399.58\n                                 2014-09-30    12693.74\n                                 2014-10-31     9324.37\n                                 2014-11-30     6021.11\n                                 2014-12-31     7640.60\nFrami, Hills and Schmidt         2014-01-31     5112.34\n                                 2014-02-28     4124.53\n                                 2014-03-31    10397.44\n                                 2014-04-30     5036.18\n                                 2014-05-31     4097.87\n                                 2014-06-30    13192.19\n                                                 ...   \nTrantow-Barrows                  2014-07-31    11987.34\n                                 2014-08-31    17251.65\n                                 2014-09-30     6992.48\n                                 2014-10-31    10064.27\n                                 2014-11-30     6550.10\n                                 2014-12-31    10124.23\nWhite-Trantow                    2014-01-31    13703.77\n                                 2014-02-28    11783.98\n                                 2014-03-31     8583.05\n                                 2014-04-30    19009.20\n                                 2014-05-31     5877.29\n                                 2014-06-30    14791.32\n                                 2014-07-31    10242.62\n                                 2014-08-31    12287.21\n                                 2014-09-30     5315.16\n                                 2014-10-31    19896.85\n                                 2014-11-30     9544.61\n                                 2014-12-31     4806.93\nWill LLC                         2014-01-31    20953.87\n                                 2014-02-28    13613.06\n                                 2014-03-31     9838.93\n                                 2014-04-30     6094.94\n                                 2014-05-31    11856.95\n                                 2014-06-30     2419.52\n                                 2014-07-31    11017.54\n                                 2014-08-31     1439.82\n                                 2014-09-30     4345.99\n                                 2014-10-31     7085.33\n                                 2014-11-30     3210.44\n                                 2014-12-31    12561.21\nName: ext price, Length: 240, dtype: float64"
          },
          "metadata": {}
        }
      ]
    },
    {
      "metadata": {
        "trusted": true
      },
      "cell_type": "code",
      "source": "df.groupby(['name', pd.Grouper(key='date', freq='A-DEC')])['ext price'].sum()",
      "execution_count": 32,
      "outputs": [
        {
          "output_type": "execute_result",
          "execution_count": 32,
          "data": {
            "text/plain": "name                             date      \nBarton LLC                       2014-12-31    109438.50\nCronin, Oberbrunner and Spencer  2014-12-31     89734.55\nFrami, Hills and Schmidt         2014-12-31    103569.59\nFritsch, Russel and Anderson     2014-12-31    112214.71\nHalvorson, Crona and Champlin    2014-12-31     70004.36\nHerman LLC                       2014-12-31     82865.00\nJerde-Hilpert                    2014-12-31    112591.43\nKassulke, Ondricka and Metz      2014-12-31     86451.07\nKeeling LLC                      2014-12-31    100934.30\nKiehn-Spinka                     2014-12-31     99608.77\nKoepp Ltd                        2014-12-31    103660.54\nKuhn-Gusikowski                  2014-12-31     91094.28\nKulas Inc                        2014-12-31    137351.96\nPollich LLC                      2014-12-31     87347.18\nPurdy-Kunde                      2014-12-31     77898.21\nSanford and Sons                 2014-12-31     98822.98\nStokes LLC                       2014-12-31     91535.92\nTrantow-Barrows                  2014-12-31    123381.38\nWhite-Trantow                    2014-12-31    135841.99\nWill LLC                         2014-12-31    104437.60\nName: ext price, dtype: float64"
          },
          "metadata": {}
        }
      ]
    },
    {
      "metadata": {
        "trusted": true
      },
      "cell_type": "code",
      "source": "df[[\"ext price\", \"quantity\"]].sum()",
      "execution_count": 33,
      "outputs": [
        {
          "output_type": "execute_result",
          "execution_count": 33,
          "data": {
            "text/plain": "ext price    2018784.32\nquantity       36463.00\ndtype: float64"
          },
          "metadata": {}
        }
      ]
    },
    {
      "metadata": {
        "trusted": true
      },
      "cell_type": "code",
      "source": "df[[\"ext price\", \"quantity\", \"unit price\"]].agg(['sum', 'mean'])",
      "execution_count": 34,
      "outputs": [
        {
          "output_type": "execute_result",
          "execution_count": 34,
          "data": {
            "text/html": "<div>\n<style scoped>\n    .dataframe tbody tr th:only-of-type {\n        vertical-align: middle;\n    }\n\n    .dataframe tbody tr th {\n        vertical-align: top;\n    }\n\n    .dataframe thead th {\n        text-align: right;\n    }\n</style>\n<table border=\"1\" class=\"dataframe\">\n  <thead>\n    <tr style=\"text-align: right;\">\n      <th></th>\n      <th>ext price</th>\n      <th>quantity</th>\n      <th>unit price</th>\n    </tr>\n  </thead>\n  <tbody>\n    <tr>\n      <th>sum</th>\n      <td>2.018784e+06</td>\n      <td>36463.000000</td>\n      <td>82511.290000</td>\n    </tr>\n    <tr>\n      <th>mean</th>\n      <td>1.345856e+03</td>\n      <td>24.308667</td>\n      <td>55.007527</td>\n    </tr>\n  </tbody>\n</table>\n</div>",
            "text/plain": "         ext price      quantity    unit price\nsum   2.018784e+06  36463.000000  82511.290000\nmean  1.345856e+03     24.308667     55.007527"
          },
          "metadata": {}
        }
      ]
    },
    {
      "metadata": {
        "trusted": true
      },
      "cell_type": "code",
      "source": "df.agg({'ext price': ['sum', 'mean'], 'quantity': ['sum', 'mean'], 'unit price': ['mean']})",
      "execution_count": 35,
      "outputs": [
        {
          "output_type": "execute_result",
          "execution_count": 35,
          "data": {
            "text/html": "<div>\n<style scoped>\n    .dataframe tbody tr th:only-of-type {\n        vertical-align: middle;\n    }\n\n    .dataframe tbody tr th {\n        vertical-align: top;\n    }\n\n    .dataframe thead th {\n        text-align: right;\n    }\n</style>\n<table border=\"1\" class=\"dataframe\">\n  <thead>\n    <tr style=\"text-align: right;\">\n      <th></th>\n      <th>ext price</th>\n      <th>quantity</th>\n      <th>unit price</th>\n    </tr>\n  </thead>\n  <tbody>\n    <tr>\n      <th>mean</th>\n      <td>1.345856e+03</td>\n      <td>24.308667</td>\n      <td>55.007527</td>\n    </tr>\n    <tr>\n      <th>sum</th>\n      <td>2.018784e+06</td>\n      <td>36463.000000</td>\n      <td>NaN</td>\n    </tr>\n  </tbody>\n</table>\n</div>",
            "text/plain": "         ext price      quantity  unit price\nmean  1.345856e+03     24.308667   55.007527\nsum   2.018784e+06  36463.000000         NaN"
          },
          "metadata": {}
        }
      ]
    },
    {
      "metadata": {
        "trusted": true
      },
      "cell_type": "code",
      "source": "get_max = lambda x: x.value_counts(dropna=False).index[0]\n#en este ejemplo el value_counts asume que el valor mas frecuente se pone de primero y se accede a él por medio del indice 0, para casos donde se requiere saber cual es el valor menos frecuente se puede hacer un sort ascendiente del indice y tomar el valor 0 \n\n#para cambiarle el nombre a la funcion lambda\nget_max.__name__ = \"most frequent\"\n\n",
      "execution_count": 46,
      "outputs": []
    },
    {
      "metadata": {
        "trusted": true
      },
      "cell_type": "code",
      "source": "df.agg({'ext price': ['sum', 'mean'], 'quantity': ['sum', 'mean'], 'unit price': ['mean'], 'sku': [get_max]})",
      "execution_count": 47,
      "outputs": [
        {
          "output_type": "execute_result",
          "execution_count": 47,
          "data": {
            "text/html": "<div>\n<style scoped>\n    .dataframe tbody tr th:only-of-type {\n        vertical-align: middle;\n    }\n\n    .dataframe tbody tr th {\n        vertical-align: top;\n    }\n\n    .dataframe thead th {\n        text-align: right;\n    }\n</style>\n<table border=\"1\" class=\"dataframe\">\n  <thead>\n    <tr style=\"text-align: right;\">\n      <th></th>\n      <th>ext price</th>\n      <th>quantity</th>\n      <th>unit price</th>\n      <th>sku</th>\n    </tr>\n  </thead>\n  <tbody>\n    <tr>\n      <th>mean</th>\n      <td>1.345856e+03</td>\n      <td>24.308667</td>\n      <td>55.007527</td>\n      <td>NaN</td>\n    </tr>\n    <tr>\n      <th>most frequent</th>\n      <td>NaN</td>\n      <td>NaN</td>\n      <td>NaN</td>\n      <td>S2-77896</td>\n    </tr>\n    <tr>\n      <th>sum</th>\n      <td>2.018784e+06</td>\n      <td>36463.000000</td>\n      <td>NaN</td>\n      <td>NaN</td>\n    </tr>\n  </tbody>\n</table>\n</div>",
            "text/plain": "                  ext price      quantity  unit price       sku\nmean           1.345856e+03     24.308667   55.007527       NaN\nmost frequent           NaN           NaN         NaN  S2-77896\nsum            2.018784e+06  36463.000000         NaN       NaN"
          },
          "metadata": {}
        }
      ]
    },
    {
      "metadata": {
        "trusted": true
      },
      "cell_type": "code",
      "source": "import collections\nf = collections.OrderedDict([('ext price', ['sum', 'mean']), ('quantity', ['sum', 'mean']), ('sku', [get_max])])\ndf.agg(f)",
      "execution_count": 48,
      "outputs": [
        {
          "output_type": "execute_result",
          "execution_count": 48,
          "data": {
            "text/html": "<div>\n<style scoped>\n    .dataframe tbody tr th:only-of-type {\n        vertical-align: middle;\n    }\n\n    .dataframe tbody tr th {\n        vertical-align: top;\n    }\n\n    .dataframe thead th {\n        text-align: right;\n    }\n</style>\n<table border=\"1\" class=\"dataframe\">\n  <thead>\n    <tr style=\"text-align: right;\">\n      <th></th>\n      <th>ext price</th>\n      <th>quantity</th>\n      <th>sku</th>\n    </tr>\n  </thead>\n  <tbody>\n    <tr>\n      <th>mean</th>\n      <td>1.345856e+03</td>\n      <td>24.308667</td>\n      <td>NaN</td>\n    </tr>\n    <tr>\n      <th>most frequent</th>\n      <td>NaN</td>\n      <td>NaN</td>\n      <td>S2-77896</td>\n    </tr>\n    <tr>\n      <th>sum</th>\n      <td>2.018784e+06</td>\n      <td>36463.000000</td>\n      <td>NaN</td>\n    </tr>\n  </tbody>\n</table>\n</div>",
            "text/plain": "                  ext price      quantity       sku\nmean           1.345856e+03     24.308667       NaN\nmost frequent           NaN           NaN  S2-77896\nsum            2.018784e+06  36463.000000       NaN"
          },
          "metadata": {}
        }
      ]
    },
    {
      "metadata": {
        "trusted": true
      },
      "cell_type": "code",
      "source": "#cual es el name que aparece mas veces\ndisplay(df[\"name\"].value_counts(dropna=False).index[0])\ndisplay(df[\"name\"].value_counts(dropna=False).index[1])\n\n",
      "execution_count": 65,
      "outputs": [
        {
          "output_type": "display_data",
          "data": {
            "text/plain": "'Trantow-Barrows'"
          },
          "metadata": {}
        },
        {
          "output_type": "display_data",
          "data": {
            "text/plain": "'Kulas Inc'"
          },
          "metadata": {}
        }
      ]
    },
    {
      "metadata": {
        "trusted": true
      },
      "cell_type": "code",
      "source": "#2 Cual es el nombre que aparece mas veces\ndf.groupby('name')[\"date\"].count().sort_values(ascending=False).iloc[0:2]",
      "execution_count": 76,
      "outputs": [
        {
          "output_type": "execute_result",
          "execution_count": 76,
          "data": {
            "text/plain": "name\nKulas Inc          94\nTrantow-Barrows    94\nName: date, dtype: int64"
          },
          "metadata": {}
        }
      ]
    },
    {
      "metadata": {
        "trusted": true
      },
      "cell_type": "code",
      "source": "#3 cual nombre que tiene mas quantity\ndf.groupby('name')[\"quantity\"].sum().sort_values(ascending=False).iloc[0:2]",
      "execution_count": 77,
      "outputs": [
        {
          "output_type": "execute_result",
          "execution_count": 77,
          "data": {
            "text/plain": "name\nTrantow-Barrows    2271\nKulas Inc          2265\nName: quantity, dtype: int64"
          },
          "metadata": {}
        }
      ]
    },
    {
      "metadata": {
        "trusted": true
      },
      "cell_type": "code",
      "source": "#4 Existe una cuenta que tenga mas de un nombre asociado o viceversa\n#df.groupby('name')[\"account number\"].count().sort_values(ascending=False)\ndf.groupby(['name',\"account number\"])['ext price'].count()\n",
      "execution_count": 85,
      "outputs": [
        {
          "output_type": "execute_result",
          "execution_count": 85,
          "data": {
            "text/plain": "name                             account number\nBarton LLC                       740150            82\nCronin, Oberbrunner and Spencer  257198            67\nFrami, Hills and Schmidt         786968            72\nFritsch, Russel and Anderson     737550            81\nHalvorson, Crona and Champlin    604255            58\nHerman LLC                       141962            62\nJerde-Hilpert                    412290            89\nKassulke, Ondricka and Metz      307599            64\nKeeling LLC                      688981            74\nKiehn-Spinka                     146832            79\nKoepp Ltd                        729833            82\nKuhn-Gusikowski                  672390            73\nKulas Inc                        218895            94\nPollich LLC                      642753            73\nPurdy-Kunde                      163416            53\nSanford and Sons                 527099            71\nStokes LLC                       239344            72\nTrantow-Barrows                  714466            94\nWhite-Trantow                    424914            86\nWill LLC                         383080            74\nName: ext price, dtype: int64"
          },
          "metadata": {}
        }
      ]
    },
    {
      "metadata": {
        "trusted": true
      },
      "cell_type": "code",
      "source": "df.groupby([\"account number\", 'name'])['ext price'].count().sort_index(level=-1)",
      "execution_count": 83,
      "outputs": [
        {
          "output_type": "execute_result",
          "execution_count": 83,
          "data": {
            "text/plain": "account number  name                           \n740150          Barton LLC                         82\n257198          Cronin, Oberbrunner and Spencer    67\n786968          Frami, Hills and Schmidt           72\n737550          Fritsch, Russel and Anderson       81\n604255          Halvorson, Crona and Champlin      58\n141962          Herman LLC                         62\n412290          Jerde-Hilpert                      89\n307599          Kassulke, Ondricka and Metz        64\n688981          Keeling LLC                        74\n146832          Kiehn-Spinka                       79\n729833          Koepp Ltd                          82\n672390          Kuhn-Gusikowski                    73\n218895          Kulas Inc                          94\n642753          Pollich LLC                        73\n163416          Purdy-Kunde                        53\n527099          Sanford and Sons                   71\n239344          Stokes LLC                         72\n714466          Trantow-Barrows                    94\n424914          White-Trantow                      86\n383080          Will LLC                           74\nName: ext price, dtype: int64"
          },
          "metadata": {}
        }
      ]
    },
    {
      "metadata": {
        "trusted": true
      },
      "cell_type": "code",
      "source": "df.groupby('name')[\"account number\"].nunique()",
      "execution_count": 88,
      "outputs": [
        {
          "output_type": "execute_result",
          "execution_count": 88,
          "data": {
            "text/plain": "name\nBarton LLC                         1\nCronin, Oberbrunner and Spencer    1\nFrami, Hills and Schmidt           1\nFritsch, Russel and Anderson       1\nHalvorson, Crona and Champlin      1\nHerman LLC                         1\nJerde-Hilpert                      1\nKassulke, Ondricka and Metz        1\nKeeling LLC                        1\nKiehn-Spinka                       1\nKoepp Ltd                          1\nKuhn-Gusikowski                    1\nKulas Inc                          1\nPollich LLC                        1\nPurdy-Kunde                        1\nSanford and Sons                   1\nStokes LLC                         1\nTrantow-Barrows                    1\nWhite-Trantow                      1\nWill LLC                           1\nName: account number, dtype: int64"
          },
          "metadata": {}
        }
      ]
    },
    {
      "metadata": {
        "trusted": true
      },
      "cell_type": "code",
      "source": "",
      "execution_count": null,
      "outputs": []
    }
  ],
  "metadata": {
    "kernelspec": {
      "name": "python36",
      "display_name": "Python 3.6",
      "language": "python"
    },
    "language_info": {
      "mimetype": "text/x-python",
      "nbconvert_exporter": "python",
      "name": "python",
      "pygments_lexer": "ipython3",
      "version": "3.6.6",
      "file_extension": ".py",
      "codemirror_mode": {
        "version": 3,
        "name": "ipython"
      }
    }
  },
  "nbformat": 4,
  "nbformat_minor": 2
}